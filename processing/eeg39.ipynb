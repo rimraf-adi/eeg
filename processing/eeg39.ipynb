{
 "cells": [
  {
   "cell_type": "code",
   "execution_count": null,
   "metadata": {},
   "outputs": [],
   "source": [
    "import numpy as np\nimport pandas as pd\nimport mne\nimport librosa\nimport librosa.display\nimport matplotlib.pyplot as plt\nfrom scipy.signal import welch, butter, filtfilt, correlate\nfrom scipy.stats import skew, kurtosis\nfrom tabulate import tabulate\nimport pywt"
   ]
  },
  {
   "cell_type": "code",
   "execution_count": null,
   "metadata": {},
   "outputs": [],
   "source": [
    "!pip install scikit-learn"
   ]
  },
  {
   "cell_type": "code",
   "execution_count": null,
   "metadata": {},
   "outputs": [],
   "source": [
    "eeg_number = '39'\nexport_dirs = {\n    'plots': f'plots/eeg39',\n    'stats': f'stats/eeg39',\n    'data': f'data/eeg39'\n}\nfor dir_path in export_dirs.values():\n    os.makedirs(dir_path, exist_ok=True)"
   ]
  },
  {
   "cell_type": "code",
   "execution_count": null,
   "metadata": {},
   "outputs": [],
   "source": [
    "bipolar_pairs = [\n    ('EEG Fp1-REF', 'EEG F7-REF'),\n    ('EEG F7-REF', 'EEG T3-REF'),\n    ('EEG T3-REF', 'EEG T5-REF'),\n    ('EEG T5-REF', 'EEG O1-REF'),\n    ('EEG Fp1-REF', 'EEG F3-REF'),\n    ('EEG F3-REF', 'EEG C3-REF'),\n    ('EEG C3-REF', 'EEG P3-REF'),\n    ('EEG P3-REF', 'EEG O1-REF'),\n    ('EEG Fz-REF', 'EEG Cz-REF'),\n    ('EEG Cz-REF', 'EEG Pz-REF'),\n    ('EEG Fp2-REF', 'EEG F4-REF'),\n    ('EEG F4-REF', 'EEG C4-REF'),\n    ('EEG C4-REF', 'EEG P4-REF'),\n    ('EEG P4-REF', 'EEG O2-REF'),\n    ('EEG Fp2-REF', 'EEG F8-REF'),\n    ('EEG F8-REF', 'EEG T4-REF'),\n    ('EEG T4-REF', 'EEG T6-REF'),\n    ('EEG T6-REF', 'EEG O2-REF'),\n]\n\nanode = [pair[0] for pair in bipolar_pairs]\ncathode = [pair[1] for pair in bipolar_pairs]\nch_names = [f\"{pair[0].replace('EEG ', '').replace('-REF', '')}-{pair[1].replace('EEG ', '').replace('-REF', '')}\" \n           for pair in bipolar_pairs]"
   ]
  },
  {
   "cell_type": "code",
   "execution_count": null,
   "metadata": {},
   "outputs": [],
   "source": [
    "def getArray(filename :str):\n    channels_to_drop = ['ECG EKG-REF', 'Resp Effort-REF']\n    raw = mne.io.read_raw_edf(filename, preload=True)\n    raw.drop_channels(channels_to_drop)\n    \n    raw = mne.set_bipolar_reference(raw, anode=anode, cathode=cathode, copy=True, ch_name=ch_names)\n    raw.plot()\n    array = raw.get_data()\n    actual_ch_names = raw.ch_names\n    return array, actual_ch_names"
   ]
  },
  {
   "cell_type": "code",
   "execution_count": null,
   "metadata": {},
   "outputs": [],
   "source": [
    "array, actual_ch_names = getArray('../dataset/eeg39.edf')"
   ]
  },
  {
   "cell_type": "code",
   "execution_count": null,
   "metadata": {},
   "outputs": [],
   "source": [
    "a = pd.read_csv('/Users/adityakinjawadekar/Documents/100xcode/py/annotations_2017_A_fixed.csv')\nb = pd.read_csv('/Users/adityakinjawadekar/Documents/100xcode/py/annotations_2017_B.csv')\nc = pd.read_csv('/Users/adityakinjawadekar/Documents/100xcode/py/annotations_2017_C.csv')"
   ]
  },
  {
   "cell_type": "code",
   "execution_count": null,
   "metadata": {},
   "outputs": [],
   "source": [
    "sz = []\nnsz = []\nfor i in range(len(array[0])):\n    if a['1'].iloc[i//256] == 1:\n        sz.append(i)\n    else:\n        nsz.append(i)\n        \ndef calculate_intervals(numbers):\n    numbers = sorted(numbers)\n    intervals = []\n    start = end = numbers[0]\n\n    for num in numbers[1:]:\n        if num == end + 1:\n            end = num\n        else:\n            intervals.append([start, end])\n            start = end = num\n\n    intervals.append([start, end])  \n    return intervals\n\nint = calculate_intervals(sz)\nnsi = calculate_intervals(nsz)\n\n# Extract seizure and non-seizure segments for all channels\nseizured_segments = []\nnon_seizured_segments = []\n\nfor j in range(len(array)):  # For each channel\n    channel_seizure = []\n    channel_non_seizure = []\n    \n    # Process seizure segments\n    for interval in int:\n        start, end = interval\n        if start < len(array[j]) and end < len(array[j]):\n            channel_seizure.append(array[j][start:end])\n    \n    # Process non-seizure segments\n    for interval in nsi:\n        start, end = interval\n        if start < len(array[j]) and end < len(array[j]):\n            channel_non_seizure.append(array[j][start:end])\n    \n    seizured_segments.append(channel_seizure)\n    non_seizured_segments.append(channel_non_seizure)"
   ]
  },
  {
   "cell_type": "code",
   "execution_count": null,
   "metadata": {},
   "outputs": [],
   "source": [
    "n_channels = array.shape[0]\nn_timepoints = array.shape[1]\n\n# Initialize arrays for all channels\nseizured_all = np.zeros_like(array)\nnon_seizured_all = np.zeros_like(array)\n\n# Process each channel\nfor ch in range(n_channels):\n    for i in range(n_timepoints):\n        if a['1'].iloc[i//256] == 1:  # Seizure\n            seizured_all[ch][i] = array[ch][i]\n            non_seizured_all[ch][i] = 0\n        elif a['1'].iloc[i//256] == 0:  # Non-seizure\n            seizured_all[ch][i] = 0\n            non_seizured_all[ch][i] = array[ch][i]\n\n# Create the plot\nfig, axes = plt.subplots(n_channels, 3, figsize=(18, 3*n_channels))\nfig.suptitle(f'EEG {eeg_number}: Original, Seizure, and Non-Seizure Segments', fontsize=16)\n\n# Plot each channel\nfor ch in range(n_channels):\n    # Original signal\n    axes[ch, 0].plot(array[ch], 'k-', linewidth=0.5)\n    axes[ch, 0].set_title(f'{actual_ch_names[ch]} - Full Signal')\n    axes[ch, 0].set_ylabel('Amplitude (\u00b5V)')\n    \n    # Seizure segments\n    axes[ch, 1].plot(seizured_all[ch], 'r-', linewidth=0.5)\n    axes[ch, 1].set_title(f'{actual_ch_names[ch]} - Seizure Segments')\n    axes[ch, 1].set_ylabel('Amplitude (\u00b5V)')\n    \n    # Non-seizure segments  \n    axes[ch, 2].plot(non_seizured_all[ch], 'orange', linewidth=0.5)\n    axes[ch, 2].set_title(f'{actual_ch_names[ch]} - Non-Seizure Segments')\n    axes[ch, 2].set_ylabel('Amplitude (\u00b5V)')\n    \n    # Add x-axis label only to bottom row\n    if ch == n_channels - 1:\n        axes[ch, 0].set_xlabel('Time (samples)')\n        axes[ch, 1].set_xlabel('Time (samples)')\n        axes[ch, 2].set_xlabel('Time (samples)')\n\nplt.tight_layout()\nplt.savefig(f'plots/eeg{eeg_number}/signal_segments_eeg{eeg_number}.png', dpi=300, bbox_inches='tight')\nplt.show()\n\n# Optional: Print some statistics\nprint(f\"Total channels: {n_channels}\")\nprint(f\"Total timepoints: {n_timepoints}\")\nprint(f\"Seizure samples: {np.sum(a['1'] == 1) * 256}\")\nprint(f\"Non-seizure samples: {np.sum(a['1'] == 0) * 256}\")"
   ]
  },
  {
   "cell_type": "code",
   "execution_count": null,
   "metadata": {},
   "outputs": [],
   "source": [
    "import numpy as np\nfrom tabulate import tabulate\nfrom scipy.signal import welch\n\ntime_stats = []\npsd_areas = []\n\nfs = 256\n\nfor ch in range(len(array)):\n    for seg_idx, segment in enumerate(seizured_segments[ch]):\n        mean_val = np.mean(segment)\n        var_val = np.var(segment)\n        std_val = np.std(segment)\n        \n        time_stats.append([actual_ch_names[ch], seg_idx + 1, mean_val, var_val, std_val])\n        \n        f, Pxx = welch(segment, fs=fs, nperseg=1024)\n        area = np.trapz(Pxx, f)\n        psd_areas.append([actual_ch_names[ch], seg_idx + 1, area])\n\ntime_stats = np.array(time_stats)\npsd_areas = np.array(psd_areas)\n\ntime_headers = ['Channel', 'Segment', 'Mean', 'Variance', 'Std Dev']\npsd_headers = ['Channel', 'Segment', 'PSD Area']\n\nprint(\"Time Domain Statistics for Seizured Segments:\")\nprint(tabulate(time_stats, headers=time_headers, tablefmt='grid', floatfmt='.4f'))\nprint(\"\\n\")\n\nprint(\"Power Spectral Density Areas for Seizured Segments:\")\nprint(tabulate(psd_areas, headers=psd_headers, tablefmt='grid', floatfmt='.4f'))\n\nnp.savetxt(f'stats/eeg{eeg_number}/time_stats_seizured_eeg{eeg_number}.csv', \n           time_stats, delimiter=',', header=','.join(time_headers), comments='', fmt='%s')\nnp.savetxt(f'stats/eeg{eeg_number}/psd_areas_seizured_eeg{eeg_number}.csv', \n           psd_areas, delimiter=',', header=','.join(psd_headers), comments='', fmt='%s')"
   ]
  },
  {
   "cell_type": "code",
   "execution_count": null,
   "metadata": {},
   "outputs": [],
   "source": [
    "from sklearn.linear_model import LinearRegression\n\npsd_fit_results = []\n\nfs = 256\n\n# Create a figure for plotting PSD and linear fits\nplt.figure(figsize=(15, 10))\nplt.suptitle('Log PSD and Linear Fit for Seizure Segments', fontsize=16)\n\nfor ch in range(len(array)):\n    for seg_idx, segment in enumerate(seizured_segments[ch]):\n        f, Pxx = welch(segment, fs=fs, nperseg=1024)\n        log_Pxx = np.log(Pxx + 1e-12)\n        f_reshaped = f.reshape(-1, 1)\n        \n        # Fit linear regression\n        model = LinearRegression()\n        model.fit(f_reshaped, log_Pxx)\n        slope = model.coef_[0]\n        intercept = model.intercept_\n        \n        # Calculate fitted line\n        fitted_line = model.predict(f_reshaped)\n        \n        # Plot log PSD and fitted line\n        plt.subplot(5, 5, seg_idx + 1)\n        plt.plot(f, log_Pxx, 'b-', label='Log PSD', alpha=0.5)\n        plt.plot(f, fitted_line, 'r-', label='Linear Fit')\n        plt.title(f'Ch {ch+1} Seg {seg_idx+1}\\nSlope: {slope:.2f}')\n        plt.xlabel('Frequency (Hz)')\n        plt.ylabel('log(PSD)')\n        plt.legend(fontsize=8)\n        plt.grid(True, alpha=0.3)\n        \n        psd_fit_results.append([actual_ch_names[ch], seg_idx + 1, slope, intercept])\n\nplt.tight_layout()\nplt.savefig(f'plots/eeg{eeg_number}/psd_linear_fit_eeg{eeg_number}.png', dpi=300, bbox_inches='tight')\nplt.show()\n\n# Create a figure for plotting slopes and intercepts\nplt.figure(figsize=(15, 10))\nplt.suptitle('Slopes and Intercepts for Seizure Segments', fontsize=16)\n\n# Plot slopes\nplt.subplot(2, 1, 1)\nslopes = [result[2] for result in psd_fit_results]\nplt.plot(slopes, 'bo-')\nplt.title('Slopes')\nplt.xlabel('Segment Index')\nplt.ylabel('Slope')\nplt.grid(True, alpha=0.3)\n\n# Plot intercepts\nplt.subplot(2, 1, 2)\nintercepts = [result[3] for result in psd_fit_results]\nplt.plot(intercepts, 'ro-')\nplt.title('Intercepts')\nplt.xlabel('Segment Index')\nplt.ylabel('Intercept')\nplt.grid(True, alpha=0.3)\n\nplt.tight_layout()\nplt.savefig(f'plots/eeg{eeg_number}/slopes_intercepts_eeg{eeg_number}.png', dpi=300, bbox_inches='tight')\nplt.show()\n\n# Save results to CSV\npsd_fit_results = np.array(psd_fit_results)\npsd_fit_headers = ['Channel', 'Segment', 'Slope', 'Intercept']\nnp.savetxt(f'stats/eeg{eeg_number}/psd_logfit_seizured_eeg{eeg_number}.csv', \n           psd_fit_results, delimiter=',', header=','.join(psd_fit_headers), comments='', fmt='%s')"
   ]
  },
  {
   "cell_type": "code",
   "execution_count": null,
   "metadata": {},
   "outputs": [],
   "source": [
    "# Create autocorrelation plots for all channels\nfor channel in range(len(array)):\n    fig, axs = plt.subplots(5, 5, figsize=(15, 10))  # 5 rows x 5 columns of subplots\n    axs = axs.flatten()  # Flatten to 1D array for easy indexing\n    \n    for idx, i in enumerate(seizured_segments[channel]):\n        autocorr = correlate(i, i, mode='full')\n        autocorr = autocorr[len(autocorr)//2:]\n        autocorr = autocorr / autocorr[0]\n        axs[idx].plot(autocorr)  # Plot first 500 lags\n        axs[idx].set_title(f\"Segment {idx+1}\", fontsize=8)\n        axs[idx].set_xticks([])\n        axs[idx].set_yticks([])\n    \n    plt.suptitle(f\"Autocorrelation of Seizure Segments (Channel {channel+1}: {actual_ch_names[channel]})\", fontsize=16)\n    plt.tight_layout()\n    plt.show()"
   ]
  },
  {
   "cell_type": "code",
   "execution_count": null,
   "metadata": {},
   "outputs": [],
   "source": [
    "# Create Power Spectral Density plots for all channels\nfs = 256  # Sampling frequency in Hz\n\nfor channel in range(len(array)):\n    fig, axs = plt.subplots(5, 5, figsize=(15, 10))\n    axs = axs.flatten()\n    \n    for idx, i in enumerate(seizured_segments[channel]):\n        f, Pxx = welch(i, fs=fs, nperseg=1024)\n        axs[idx].semilogy(f, Pxx)  # log scale on y-axis\n        axs[idx].set_title(f\"Segment {idx+1}\", fontsize=8)\n        axs[idx].set_xlim(0, 128)  # Show up to 128 Hz\n        axs[idx].set_xticks([])\n        axs[idx].set_yticks([])\n    \n    plt.suptitle(f\"Power Spectral Density of Seizure Segments (Channel {channel+1}: {actual_ch_names[channel]})\", fontsize=16)\n    plt.tight_layout()\n    plt.show()"
   ]
  },
  {
   "cell_type": "code",
   "execution_count": null,
   "metadata": {},
   "outputs": [],
   "source": [
    "wavelet = 'cmor'\nscales = np.arange(1, 64)\nsampling_rate = 256\nsampling_period = 1 / sampling_rate\n\nfrequencies = pywt.scale2frequency(wavelet, scales) / sampling_period\n\nfor channel in range(len(array)):\n    fig, axs = plt.subplots(5, 5, figsize=(20, 15))\n    axs = axs.flatten()\n    \n    for i, segment in enumerate(seizured_segments[channel]):\n        coefficients, _ = pywt.cwt(segment, scales, wavelet, sampling_period)\n        \n        ax = axs[i]\n        t = np.arange(len(segment)) / sampling_rate\n        im = ax.imshow(np.abs(coefficients), extent=[t[0], t[-1], frequencies[-1], frequencies[0]],\n                      cmap='magma', aspect='auto', vmax=np.percentile(np.abs(coefficients), 99))\n        ax.set_title(f'Segment {i+1}', fontsize=10)\n        ax.set_xlabel('Time (s)')\n        ax.set_ylabel('Frequency (Hz)')\n    \n    fig.subplots_adjust(right=0.9, hspace=0.4, wspace=0.3)\n    cbar_ax = fig.add_axes([0.92, 0.15, 0.02, 0.7])\n    fig.colorbar(im, cax=cbar_ax, label='Magnitude')\n    \n    plt.suptitle(f'Continuous Wavelet Transform (Channel {channel+1}: {actual_ch_names[channel]})', fontsize=16)\n    plt.savefig(f'plots/eeg{eeg_number}/cwt_channel_{channel+1}_eeg{eeg_number}.png', dpi=300, bbox_inches='tight')\n    plt.show()"
   ]
  },
  {
   "cell_type": "code",
   "execution_count": null,
   "metadata": {},
   "outputs": [],
   "source": [
    "!pip install scikit-learn"
   ]
  }
 ],
 "metadata": {
  "kernelspec": {
   "display_name": "Python 3",
   "language": "python",
   "name": "python3"
  },
  "language_info": {
   "codemirror_mode": {
    "name": "ipython",
    "version": 3
   },
   "file_extension": ".py",
   "mimetype": "text/x-python",
   "name": "python",
   "nbconvert_exporter": "python",
   "pygments_lexer": "ipython3",
   "version": "3.8.0"
  }
 },
 "nbformat": 4,
 "nbformat_minor": 4
}